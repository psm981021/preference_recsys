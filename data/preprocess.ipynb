{
 "cells": [
  {
   "cell_type": "code",
   "execution_count": 1,
   "metadata": {},
   "outputs": [],
   "source": [
    "import pandas as pd\n",
    "import os"
   ]
  },
  {
   "cell_type": "code",
   "execution_count": 3,
   "metadata": {},
   "outputs": [
    {
     "data": {
      "text/plain": [
       "'/Users/sb/Desktop/project/preference_rec/data'"
      ]
     },
     "execution_count": 3,
     "metadata": {},
     "output_type": "execute_result"
    }
   ],
   "source": [
    "path = os.getcwd()"
   ]
  },
  {
   "cell_type": "markdown",
   "metadata": {},
   "source": [
    "ML-1m "
   ]
  },
  {
   "cell_type": "code",
   "execution_count": null,
   "metadata": {},
   "outputs": [],
   "source": [
    "column_names = ['UserID', 'MovieID', 'Rating', 'Timestamp']\n",
    "\n",
    "df = pd.read_csv(f'{path}/ml-1m/ratings.dat', sep='::', header=None, names =column_names, engine= 'python')\n",
    "df.to_csv(f'{path}/ml-1m/ratings.csv')"
   ]
  },
  {
   "cell_type": "code",
   "execution_count": null,
   "metadata": {},
   "outputs": [],
   "source": [
    "column_names = ['MovieID','Title','Genres']\n",
    "df = pd.read_csv(f'{path}/ml-1m/movies.dat', sep='::', header=None, names =column_names, engine= 'python',encoding='ISO-8859-1')\n",
    "\n",
    "df.to_csv(f'{path}/data/ml-1m/movies.csv')"
   ]
  },
  {
   "cell_type": "markdown",
   "metadata": {},
   "source": [
    "Amazon Beauty"
   ]
  },
  {
   "cell_type": "code",
   "execution_count": null,
   "metadata": {},
   "outputs": [],
   "source": [
    "column_names = ['item', 'user','rating','timestamp']\n",
    "\n",
    "df = pd.read_csv(f'{path}/beauty/All_Beauty.csv', sep=',',header=None, names=column_names, engine= 'python')\n",
    "df.to_csv(f'{path}/beauty/Amazon_Beauty_small.csv')"
   ]
  },
  {
   "cell_type": "markdown",
   "metadata": {},
   "source": [
    "Amazon Books"
   ]
  },
  {
   "cell_type": "code",
   "execution_count": null,
   "metadata": {},
   "outputs": [],
   "source": [
    "column_names = ['item', 'user','rating','timestamp']\n",
    "\n",
    "df = pd.read_csv(f'{path}/books/books.csv', sep=',',header=None, names=column_names, engine= 'python')\n",
    "df.to_csv(f'{path}/books/books.csv')"
   ]
  }
 ],
 "metadata": {
  "kernelspec": {
   "display_name": "ksc2023",
   "language": "python",
   "name": "python3"
  },
  "language_info": {
   "codemirror_mode": {
    "name": "ipython",
    "version": 3
   },
   "file_extension": ".py",
   "mimetype": "text/x-python",
   "name": "python",
   "nbconvert_exporter": "python",
   "pygments_lexer": "ipython3",
   "version": "3.11.7"
  }
 },
 "nbformat": 4,
 "nbformat_minor": 2
}
